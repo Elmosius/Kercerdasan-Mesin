{
  "nbformat": 4,
  "nbformat_minor": 0,
  "metadata": {
    "colab": {
      "provenance": []
    },
    "kernelspec": {
      "name": "python3",
      "display_name": "Python 3"
    },
    "language_info": {
      "name": "python"
    }
  },
  "cells": [
    {
      "cell_type": "markdown",
      "source": [
        "#**Pertemuan 4 - DATASET APPLE_QUALITY**\n",
        "---\n",
        "<br>\n"
      ],
      "metadata": {
        "id": "C2pWqnGAB18q"
      }
    },
    {
      "cell_type": "code",
      "source": [
        "import pandas as pd\n",
        "from sklearn.preprocessing import LabelEncoder\n",
        "from sklearn.model_selection import train_test_split\n",
        "from sklearn.linear_model import LogisticRegression\n",
        "from sklearn.metrics import confusion_matrix, precision_score, \\\n",
        "recall_score, accuracy_score, roc_curve, roc_auc_score"
      ],
      "metadata": {
        "id": "YooL1CsX2iZl"
      },
      "execution_count": 78,
      "outputs": []
    },
    {
      "cell_type": "markdown",
      "source": [
        "<small>1. Menggunakan dataset “apple_quality.csv”</small>"
      ],
      "metadata": {
        "id": "sI3NsCS52t65"
      }
    },
    {
      "cell_type": "code",
      "execution_count": 79,
      "metadata": {
        "id": "h7PDm_qs_xnY"
      },
      "outputs": [],
      "source": [
        "df = pd.read_csv('apple_quality.csv')"
      ]
    },
    {
      "cell_type": "markdown",
      "source": [
        "<small>2. Melakukan pengecekan apakah data tersebut memiliki data yang kosong atau tidak. Bila terdapat data kosong, hapus baris tersebut </small>"
      ],
      "metadata": {
        "id": "nVUFdS2SRue2"
      }
    },
    {
      "cell_type": "code",
      "source": [
        "print(df.isnull().sum())\n",
        "df.dropna(axis=0,inplace=True)"
      ],
      "metadata": {
        "colab": {
          "base_uri": "https://localhost:8080/"
        },
        "id": "Mh8hQxO51EN6",
        "outputId": "b6439b3e-745a-4129-b778-30e4e6c1d80c"
      },
      "execution_count": 80,
      "outputs": [
        {
          "output_type": "stream",
          "name": "stdout",
          "text": [
            "A_id           1\n",
            "Size           1\n",
            "Weight         1\n",
            "Sweetness      1\n",
            "Crunchiness    1\n",
            "Juiciness      1\n",
            "Ripeness       1\n",
            "Acidity        0\n",
            "Quality        1\n",
            "dtype: int64\n"
          ]
        }
      ]
    },
    {
      "cell_type": "markdown",
      "source": [
        "<small>3. Melakukan data preparation, perhatikan kolom-kolom yang bertipe data kategorikal, kita dapat menggunakan one-hot encoding/ordinal encoding/label encoder </small>"
      ],
      "metadata": {
        "id": "SMYDhBIRSaTf"
      }
    },
    {
      "cell_type": "code",
      "source": [
        "le = preprocessing.LabelEncoder()\n",
        "df[['Acidity']] = df[['Acidity']].apply(pd.to_numeric, errors='coerce')\n",
        "df['Quality'] = le.fit_transform(df['Quality'])"
      ],
      "metadata": {
        "id": "RlRolfKi9iTD"
      },
      "execution_count": 81,
      "outputs": []
    },
    {
      "cell_type": "markdown",
      "source": [
        "<small>4. Memisahkan dataset yang ada menjadi data train dan data test dengan rasio 70% dan 30% </small>"
      ],
      "metadata": {
        "id": "2SxdKq6XSY2u"
      }
    },
    {
      "cell_type": "code",
      "source": [
        "X = df.drop(['A_id','Quality'], axis=1)\n",
        "y = df['Quality']\n",
        "X_train, X_test, y_train, y_test = \\\n",
        "train_test_split(X,y, test_size=0.3, random_state=42)"
      ],
      "metadata": {
        "id": "dbgg3eR3bdPX"
      },
      "execution_count": 82,
      "outputs": []
    },
    {
      "cell_type": "markdown",
      "source": [
        "<small>5. Melakukan pembentukan base model dengan menggunakan Logistic Regression dan tampilkan hasil akurasi yang didapat </small>"
      ],
      "metadata": {
        "id": "4oEiAAcUCfJJ"
      }
    },
    {
      "cell_type": "code",
      "source": [
        "model = LogisticRegression(max_iter=10000)\n",
        "model.fit(X_train, y_train)\n",
        "\n",
        "y_pred = model.predict(X_test)\n",
        "accuracy = accuracy_score(y_test, y_pred)\n",
        "\n",
        "print(f'Accuracy {accuracy * 100:.2f}%')"
      ],
      "metadata": {
        "id": "aA3ZRA3nSR2n",
        "colab": {
          "base_uri": "https://localhost:8080/"
        },
        "outputId": "7e06c2b9-6525-4b6b-d36a-13bbc3e031f7"
      },
      "execution_count": 83,
      "outputs": [
        {
          "output_type": "stream",
          "name": "stdout",
          "text": [
            "Accuracy 75.25%\n"
          ]
        }
      ]
    },
    {
      "cell_type": "markdown",
      "source": [
        "<small>6. Melakukan pembentukan Grid Search untuk mencari paramter terbaik dengan cross-validation. Pilihan parameternya yaitu,<br>\n",
        "a. Penalty : {‘l1’, ‘l2’, ‘elasticnet’, None} <br>\n",
        "b. Solver : {‘lbfgs’, ‘liblinear’, ‘newton-cg’, ‘newton-cholesky’, ‘sag’, ‘saga’}</small>"
      ],
      "metadata": {
        "id": "0YHp1m6HbtlR"
      }
    },
    {
      "cell_type": "code",
      "source": [
        "from sklearn.model_selection import GridSearchCV\n",
        "\n",
        "param_grid = {\n",
        "    'penalty': ['l2',],\n",
        "    'solver':  ['lbfgs', 'liblinear', 'newton-cg', \\\n",
        "               'newton-cholesky', 'sag', 'saga'],\n",
        "}"
      ],
      "metadata": {
        "id": "uwUt5f-NcF54"
      },
      "execution_count": 84,
      "outputs": []
    },
    {
      "cell_type": "code",
      "source": [
        "grid_search = GridSearchCV(model, param_grid, cv=5)\n",
        "grid_search.fit(X_train,y_train)\n",
        "\n",
        "print(grid_search.best_params_)\n",
        "print(grid_search.best_score_)"
      ],
      "metadata": {
        "colab": {
          "base_uri": "https://localhost:8080/"
        },
        "id": "LSc2zuI2mEOR",
        "outputId": "4ef2d364-35fe-4b0f-ec85-467bbfe02a8d"
      },
      "execution_count": 85,
      "outputs": [
        {
          "output_type": "stream",
          "name": "stdout",
          "text": [
            "{'penalty': 'l2', 'solver': 'liblinear'}\n",
            "0.745\n"
          ]
        }
      ]
    },
    {
      "cell_type": "markdown",
      "source": [
        "<small>7. Lakukan pembentukan model menggunakan Logistic Regression dengan best parameter yang diambil dari hasil grid search dan tampilkan hasil akurasi yang didapat </small>"
      ],
      "metadata": {
        "id": "ecAbduN-cJfL"
      }
    },
    {
      "cell_type": "code",
      "source": [
        "best_model = LogisticRegression(solver=grid_search.\\\n",
        "best_params_['solver'],\\\n",
        "max_iter=10000, random_state=42)\n",
        "\n",
        "best_model.fit(X_train, y_train)\n",
        "\n",
        "y_pred_best = best_model.predict(X_test)\n",
        "accuracy = accuracy_score(y_test, y_pred_best)\n",
        "\n",
        "print(f'Accuracy {accuracy * 100:.2f}%')"
      ],
      "metadata": {
        "id": "0vePneArcOwl",
        "colab": {
          "base_uri": "https://localhost:8080/"
        },
        "outputId": "7c5a0c3c-98d4-4733-bd34-4eba94dbe0e4"
      },
      "execution_count": 86,
      "outputs": [
        {
          "output_type": "stream",
          "name": "stdout",
          "text": [
            "Accuracy 75.33%\n"
          ]
        }
      ]
    },
    {
      "cell_type": "markdown",
      "source": [
        "<small>8. Menampilkan confusion matrix, precision, recall, accuracy, ROC curve, nilai coefficient dan intercept dari kedua model kita. </small>"
      ],
      "metadata": {
        "id": "QBQ5NWw_cPGB"
      }
    },
    {
      "cell_type": "code",
      "source": [
        "conf = confusion_matrix(y_test, y_pred)\n",
        "conf_best = confusion_matrix(y_test, y_pred_best)\n",
        "print(f'Confusion matrix model pertama: {conf}')\n",
        "print(f'Confusion matrix model kedua: {conf_best}')\n",
        "print()\n",
        "\n",
        "precision = precision_score(y_test, y_pred)\n",
        "precision_best = precision_score(y_test, y_pred_best)\n",
        "print(f'Precision model pertama: {precision}')\n",
        "print(f'Precision model kedua: {precision_best}')\n",
        "print()\n",
        "\n",
        "recall = recall_score(y_test, y_pred_best)\n",
        "recall_best = recall_score(y_test, y_pred_best)\n",
        "print(f'Recall model pertama: {recall}')\n",
        "print(f'Recall model kedua: {recall_best}')\n",
        "print()\n",
        "\n",
        "accuracy = accuracy_score(y_test, y_pred)\n",
        "accuracy_best = accuracy_score(y_test, y_pred_best)\n",
        "print(f'Accuracy model pertama: {accuracy}')\n",
        "print(f'Accuracy model kedua: {accuracy_best}')\n",
        "print()\n",
        "\n",
        "fpr, tpr, thresholds = roc_curve(y_test, y_pred)\n",
        "fpr_best, tpr_best, thresholds_best = roc_curve(y_test, y_pred_best)\n",
        "print(f'ROC curve model pertama: {accuracy}')\n",
        "print(f'ROC curve model kedua: {accuracy_best}')\n",
        "print()\n",
        "\n",
        "auc = roc_auc_score(y_test, y_pred)\n",
        "auc_best = roc_auc_score(y_test, y_pred_best)\n",
        "print(f'ROC curve model pertama: {auc}')\n",
        "print(f'ROC curve model kedua: {auc_best}')"
      ],
      "metadata": {
        "colab": {
          "base_uri": "https://localhost:8080/"
        },
        "id": "hQeVJoSqke9G",
        "outputId": "243f0856-8609-4e00-d5b0-8225fa03f4ae"
      },
      "execution_count": 87,
      "outputs": [
        {
          "output_type": "stream",
          "name": "stdout",
          "text": [
            "Confusion matrix model pertama: [[442 151]\n",
            " [146 461]]\n",
            "Confusion matrix model kedua: [[442 151]\n",
            " [145 462]]\n",
            "\n",
            "Precision model pertama: 0.7532679738562091\n",
            "Precision model kedua: 0.7536704730831973\n",
            "\n",
            "Recall model pertama: 0.7611202635914333\n",
            "Recall model kedua: 0.7611202635914333\n",
            "\n",
            "Accuracy model pertama: 0.7525\n",
            "Accuracy model kedua: 0.7533333333333333\n",
            "\n",
            "ROC curve model pertama: 0.7525\n",
            "ROC curve model kedua: 0.7533333333333333\n",
            "\n",
            "ROC curve model pertama: 0.7524176901856087\n",
            "ROC curve model kedua: 0.7532414134146037\n"
          ]
        }
      ]
    },
    {
      "cell_type": "markdown",
      "source": [
        "<small>9. analisis apakah hasilnya menjadi lebih baik, tetap atau malah terjadi penurunan performa terhadap model awalnya\n",
        "</small>"
      ],
      "metadata": {
        "id": "V-7ehewychZB"
      }
    },
    {
      "cell_type": "markdown",
      "source": [
        "\n",
        "\n",
        "Hasil menjadi lebih baik walaupun tidak terlalu signifikan, dimana:\n",
        "\n",
        "1.   Akurasi: Meningkat dari 75.25% menjadi 75.33%.\n",
        "2.   Precision: Meningkat dari 75.33% menjadi 75.37%.\n",
        "3.   ROC curve: Meningkat dari 0.7525 menjadi 0.7533.\n",
        "\n",
        "Artinya peningkatan performa ini mungkin tidak signifikan secara statistik dan\n",
        "perlu dilakukan analisis lebih lanjut untuk memastikan signifikansi dan generalizability dari hasil tuning.\n",
        "\n",
        "\n",
        "\n"
      ],
      "metadata": {
        "id": "QnLQnBJkvVZ-"
      }
    }
  ]
}