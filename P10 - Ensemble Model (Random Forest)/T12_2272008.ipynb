{
  "nbformat": 4,
  "nbformat_minor": 0,
  "metadata": {
    "colab": {
      "provenance": []
    },
    "kernelspec": {
      "name": "python3",
      "display_name": "Python 3"
    },
    "language_info": {
      "name": "python"
    }
  },
  "cells": [
    {
      "cell_type": "markdown",
      "source": [
        "># **Pertemuan 12 - Ensemble Model (Random Forest)**"
      ],
      "metadata": {
        "id": "Oe7A3PXGT29t"
      }
    },
    {
      "cell_type": "code",
      "source": [
        "import pandas as pd\n",
        "import numpy as np"
      ],
      "metadata": {
        "id": "MpuLkAvzcubi"
      },
      "execution_count": 19,
      "outputs": []
    },
    {
      "cell_type": "markdown",
      "source": [
        "<small> 1. Gunakanlah dataset “ChurnDataset.csv”. </small>"
      ],
      "metadata": {
        "id": "Zy-2ibcSdXuz"
      }
    },
    {
      "cell_type": "code",
      "source": [
        "data = pd.read_csv('ChurnDataset.csv')"
      ],
      "metadata": {
        "id": "l6YMdYi4UIru"
      },
      "execution_count": 20,
      "outputs": []
    },
    {
      "cell_type": "markdown",
      "source": [
        "<small> 2.  Lakukanlah data preparations. Perhatikan kolom-kolom yang bertipe data kategorikal, anda\n",
        "dapat menggunakan one-hot encoding/ordinal encoding/label encoder. </small>"
      ],
      "metadata": {
        "id": "z7qENVh3UIyh"
      }
    },
    {
      "cell_type": "code",
      "source": [
        "from sklearn.preprocessing import OneHotEncoder, LabelEncoder\n",
        "\n",
        "print(data.head())\n",
        "data = data.drop(columns=\\\n",
        "['RowNumber', 'CustomerId', 'Surname'])\n",
        "\n",
        "data = pd.get_dummies(data, \\\n",
        "columns=['Geography'], drop_first=True)\n",
        "\n",
        "label_encoder = LabelEncoder()\n",
        "data['Gender'] = label_encoder.fit_transform(data['Gender'])\n",
        "\n",
        "X = data.drop(columns=['Exited'])\n",
        "y = data['Exited']"
      ],
      "metadata": {
        "id": "teLxXYmkUI8n",
        "colab": {
          "base_uri": "https://localhost:8080/"
        },
        "outputId": "0fe45f40-d9a5-4a56-bafe-2c379f2328e4"
      },
      "execution_count": 21,
      "outputs": [
        {
          "output_type": "stream",
          "name": "stdout",
          "text": [
            "   RowNumber  CustomerId   Surname  CreditScore Geography  Gender  Age  \\\n",
            "0          1    15634602  Hargrave          619    France  Female   42   \n",
            "1          2    15647311      Hill          608     Spain  Female   41   \n",
            "2          3    15619304      Onio          502    France  Female   42   \n",
            "3          4    15701354      Boni          699    France  Female   39   \n",
            "4          5    15737888  Mitchell          850     Spain  Female   43   \n",
            "\n",
            "   Tenure    Balance  NumOfProducts  HasCrCard  IsActiveMember  \\\n",
            "0       2       0.00              1          1               1   \n",
            "1       1   83807.86              1          0               1   \n",
            "2       8  159660.80              3          1               0   \n",
            "3       1       0.00              2          0               0   \n",
            "4       2  125510.82              1          1               1   \n",
            "\n",
            "   EstimatedSalary  Exited  \n",
            "0        101348.88       1  \n",
            "1        112542.58       0  \n",
            "2        113931.57       1  \n",
            "3         93826.63       0  \n",
            "4         79084.10       0  \n"
          ]
        }
      ]
    },
    {
      "cell_type": "markdown",
      "source": [
        "<small> 3. Pisahkan dataset yang ada menjadi data train dan data test dengan rasio 70% dan 30% </small>"
      ],
      "metadata": {
        "id": "iyAqeqOZUJGu"
      }
    },
    {
      "cell_type": "code",
      "source": [
        "from sklearn.model_selection import train_test_split, GridSearchCV"
      ],
      "metadata": {
        "id": "dlBJccD8qJ9g"
      },
      "execution_count": 4,
      "outputs": []
    },
    {
      "cell_type": "code",
      "source": [
        "X_train, X_test, y_train, y_test = \\\n",
        "train_test_split(X, y, test_size=0.3, random_state=42)"
      ],
      "metadata": {
        "id": "foUjf9FpUJQZ"
      },
      "execution_count": 5,
      "outputs": []
    },
    {
      "cell_type": "markdown",
      "source": [
        "<small> 4.Lakukan pembentukan base model dengan menggunakan SVM, Decision Tree dan Random\n",
        "Forest. </small>"
      ],
      "metadata": {
        "id": "BbYaLKunUJYE"
      }
    },
    {
      "cell_type": "code",
      "source": [
        "from sklearn.svm import SVC\n",
        "from sklearn.tree import DecisionTreeClassifier\n",
        "from sklearn.ensemble import RandomForestClassifier\n",
        "from sklearn.metrics import classification_report, confusion_matrix"
      ],
      "metadata": {
        "id": "eSv7n_sAUJj3"
      },
      "execution_count": 6,
      "outputs": []
    },
    {
      "cell_type": "code",
      "source": [
        "# Membangun model SVM\n",
        "svm_model = SVC(random_state=42)\n",
        "svm_model.fit(X_train, y_train)"
      ],
      "metadata": {
        "id": "PigWgQlHjOqf",
        "colab": {
          "base_uri": "https://localhost:8080/",
          "height": 75
        },
        "outputId": "e59b5534-fd0e-404e-840d-2f2c8b1f191a"
      },
      "execution_count": 11,
      "outputs": [
        {
          "output_type": "execute_result",
          "data": {
            "text/plain": [
              "SVC(random_state=42)"
            ],
            "text/html": [
              "<style>#sk-container-id-4 {color: black;background-color: white;}#sk-container-id-4 pre{padding: 0;}#sk-container-id-4 div.sk-toggleable {background-color: white;}#sk-container-id-4 label.sk-toggleable__label {cursor: pointer;display: block;width: 100%;margin-bottom: 0;padding: 0.3em;box-sizing: border-box;text-align: center;}#sk-container-id-4 label.sk-toggleable__label-arrow:before {content: \"▸\";float: left;margin-right: 0.25em;color: #696969;}#sk-container-id-4 label.sk-toggleable__label-arrow:hover:before {color: black;}#sk-container-id-4 div.sk-estimator:hover label.sk-toggleable__label-arrow:before {color: black;}#sk-container-id-4 div.sk-toggleable__content {max-height: 0;max-width: 0;overflow: hidden;text-align: left;background-color: #f0f8ff;}#sk-container-id-4 div.sk-toggleable__content pre {margin: 0.2em;color: black;border-radius: 0.25em;background-color: #f0f8ff;}#sk-container-id-4 input.sk-toggleable__control:checked~div.sk-toggleable__content {max-height: 200px;max-width: 100%;overflow: auto;}#sk-container-id-4 input.sk-toggleable__control:checked~label.sk-toggleable__label-arrow:before {content: \"▾\";}#sk-container-id-4 div.sk-estimator input.sk-toggleable__control:checked~label.sk-toggleable__label {background-color: #d4ebff;}#sk-container-id-4 div.sk-label input.sk-toggleable__control:checked~label.sk-toggleable__label {background-color: #d4ebff;}#sk-container-id-4 input.sk-hidden--visually {border: 0;clip: rect(1px 1px 1px 1px);clip: rect(1px, 1px, 1px, 1px);height: 1px;margin: -1px;overflow: hidden;padding: 0;position: absolute;width: 1px;}#sk-container-id-4 div.sk-estimator {font-family: monospace;background-color: #f0f8ff;border: 1px dotted black;border-radius: 0.25em;box-sizing: border-box;margin-bottom: 0.5em;}#sk-container-id-4 div.sk-estimator:hover {background-color: #d4ebff;}#sk-container-id-4 div.sk-parallel-item::after {content: \"\";width: 100%;border-bottom: 1px solid gray;flex-grow: 1;}#sk-container-id-4 div.sk-label:hover label.sk-toggleable__label {background-color: #d4ebff;}#sk-container-id-4 div.sk-serial::before {content: \"\";position: absolute;border-left: 1px solid gray;box-sizing: border-box;top: 0;bottom: 0;left: 50%;z-index: 0;}#sk-container-id-4 div.sk-serial {display: flex;flex-direction: column;align-items: center;background-color: white;padding-right: 0.2em;padding-left: 0.2em;position: relative;}#sk-container-id-4 div.sk-item {position: relative;z-index: 1;}#sk-container-id-4 div.sk-parallel {display: flex;align-items: stretch;justify-content: center;background-color: white;position: relative;}#sk-container-id-4 div.sk-item::before, #sk-container-id-4 div.sk-parallel-item::before {content: \"\";position: absolute;border-left: 1px solid gray;box-sizing: border-box;top: 0;bottom: 0;left: 50%;z-index: -1;}#sk-container-id-4 div.sk-parallel-item {display: flex;flex-direction: column;z-index: 1;position: relative;background-color: white;}#sk-container-id-4 div.sk-parallel-item:first-child::after {align-self: flex-end;width: 50%;}#sk-container-id-4 div.sk-parallel-item:last-child::after {align-self: flex-start;width: 50%;}#sk-container-id-4 div.sk-parallel-item:only-child::after {width: 0;}#sk-container-id-4 div.sk-dashed-wrapped {border: 1px dashed gray;margin: 0 0.4em 0.5em 0.4em;box-sizing: border-box;padding-bottom: 0.4em;background-color: white;}#sk-container-id-4 div.sk-label label {font-family: monospace;font-weight: bold;display: inline-block;line-height: 1.2em;}#sk-container-id-4 div.sk-label-container {text-align: center;}#sk-container-id-4 div.sk-container {/* jupyter's `normalize.less` sets `[hidden] { display: none; }` but bootstrap.min.css set `[hidden] { display: none !important; }` so we also need the `!important` here to be able to override the default hidden behavior on the sphinx rendered scikit-learn.org. See: https://github.com/scikit-learn/scikit-learn/issues/21755 */display: inline-block !important;position: relative;}#sk-container-id-4 div.sk-text-repr-fallback {display: none;}</style><div id=\"sk-container-id-4\" class=\"sk-top-container\"><div class=\"sk-text-repr-fallback\"><pre>SVC(random_state=42)</pre><b>In a Jupyter environment, please rerun this cell to show the HTML representation or trust the notebook. <br />On GitHub, the HTML representation is unable to render, please try loading this page with nbviewer.org.</b></div><div class=\"sk-container\" hidden><div class=\"sk-item\"><div class=\"sk-estimator sk-toggleable\"><input class=\"sk-toggleable__control sk-hidden--visually\" id=\"sk-estimator-id-4\" type=\"checkbox\" checked><label for=\"sk-estimator-id-4\" class=\"sk-toggleable__label sk-toggleable__label-arrow\">SVC</label><div class=\"sk-toggleable__content\"><pre>SVC(random_state=42)</pre></div></div></div></div></div>"
            ]
          },
          "metadata": {},
          "execution_count": 11
        }
      ]
    },
    {
      "cell_type": "code",
      "source": [
        "# Membangun model Decision Tree\n",
        "decision_tree_model = DecisionTreeClassifier\\\n",
        "(random_state=42)\n",
        "decision_tree_model.fit(X_train, y_train)"
      ],
      "metadata": {
        "id": "JedVrYnkjRZn",
        "colab": {
          "base_uri": "https://localhost:8080/",
          "height": 75
        },
        "outputId": "cc22491a-a34e-4cc5-808a-474189c85c4f"
      },
      "execution_count": 12,
      "outputs": [
        {
          "output_type": "execute_result",
          "data": {
            "text/plain": [
              "DecisionTreeClassifier(random_state=42)"
            ],
            "text/html": [
              "<style>#sk-container-id-5 {color: black;background-color: white;}#sk-container-id-5 pre{padding: 0;}#sk-container-id-5 div.sk-toggleable {background-color: white;}#sk-container-id-5 label.sk-toggleable__label {cursor: pointer;display: block;width: 100%;margin-bottom: 0;padding: 0.3em;box-sizing: border-box;text-align: center;}#sk-container-id-5 label.sk-toggleable__label-arrow:before {content: \"▸\";float: left;margin-right: 0.25em;color: #696969;}#sk-container-id-5 label.sk-toggleable__label-arrow:hover:before {color: black;}#sk-container-id-5 div.sk-estimator:hover label.sk-toggleable__label-arrow:before {color: black;}#sk-container-id-5 div.sk-toggleable__content {max-height: 0;max-width: 0;overflow: hidden;text-align: left;background-color: #f0f8ff;}#sk-container-id-5 div.sk-toggleable__content pre {margin: 0.2em;color: black;border-radius: 0.25em;background-color: #f0f8ff;}#sk-container-id-5 input.sk-toggleable__control:checked~div.sk-toggleable__content {max-height: 200px;max-width: 100%;overflow: auto;}#sk-container-id-5 input.sk-toggleable__control:checked~label.sk-toggleable__label-arrow:before {content: \"▾\";}#sk-container-id-5 div.sk-estimator input.sk-toggleable__control:checked~label.sk-toggleable__label {background-color: #d4ebff;}#sk-container-id-5 div.sk-label input.sk-toggleable__control:checked~label.sk-toggleable__label {background-color: #d4ebff;}#sk-container-id-5 input.sk-hidden--visually {border: 0;clip: rect(1px 1px 1px 1px);clip: rect(1px, 1px, 1px, 1px);height: 1px;margin: -1px;overflow: hidden;padding: 0;position: absolute;width: 1px;}#sk-container-id-5 div.sk-estimator {font-family: monospace;background-color: #f0f8ff;border: 1px dotted black;border-radius: 0.25em;box-sizing: border-box;margin-bottom: 0.5em;}#sk-container-id-5 div.sk-estimator:hover {background-color: #d4ebff;}#sk-container-id-5 div.sk-parallel-item::after {content: \"\";width: 100%;border-bottom: 1px solid gray;flex-grow: 1;}#sk-container-id-5 div.sk-label:hover label.sk-toggleable__label {background-color: #d4ebff;}#sk-container-id-5 div.sk-serial::before {content: \"\";position: absolute;border-left: 1px solid gray;box-sizing: border-box;top: 0;bottom: 0;left: 50%;z-index: 0;}#sk-container-id-5 div.sk-serial {display: flex;flex-direction: column;align-items: center;background-color: white;padding-right: 0.2em;padding-left: 0.2em;position: relative;}#sk-container-id-5 div.sk-item {position: relative;z-index: 1;}#sk-container-id-5 div.sk-parallel {display: flex;align-items: stretch;justify-content: center;background-color: white;position: relative;}#sk-container-id-5 div.sk-item::before, #sk-container-id-5 div.sk-parallel-item::before {content: \"\";position: absolute;border-left: 1px solid gray;box-sizing: border-box;top: 0;bottom: 0;left: 50%;z-index: -1;}#sk-container-id-5 div.sk-parallel-item {display: flex;flex-direction: column;z-index: 1;position: relative;background-color: white;}#sk-container-id-5 div.sk-parallel-item:first-child::after {align-self: flex-end;width: 50%;}#sk-container-id-5 div.sk-parallel-item:last-child::after {align-self: flex-start;width: 50%;}#sk-container-id-5 div.sk-parallel-item:only-child::after {width: 0;}#sk-container-id-5 div.sk-dashed-wrapped {border: 1px dashed gray;margin: 0 0.4em 0.5em 0.4em;box-sizing: border-box;padding-bottom: 0.4em;background-color: white;}#sk-container-id-5 div.sk-label label {font-family: monospace;font-weight: bold;display: inline-block;line-height: 1.2em;}#sk-container-id-5 div.sk-label-container {text-align: center;}#sk-container-id-5 div.sk-container {/* jupyter's `normalize.less` sets `[hidden] { display: none; }` but bootstrap.min.css set `[hidden] { display: none !important; }` so we also need the `!important` here to be able to override the default hidden behavior on the sphinx rendered scikit-learn.org. See: https://github.com/scikit-learn/scikit-learn/issues/21755 */display: inline-block !important;position: relative;}#sk-container-id-5 div.sk-text-repr-fallback {display: none;}</style><div id=\"sk-container-id-5\" class=\"sk-top-container\"><div class=\"sk-text-repr-fallback\"><pre>DecisionTreeClassifier(random_state=42)</pre><b>In a Jupyter environment, please rerun this cell to show the HTML representation or trust the notebook. <br />On GitHub, the HTML representation is unable to render, please try loading this page with nbviewer.org.</b></div><div class=\"sk-container\" hidden><div class=\"sk-item\"><div class=\"sk-estimator sk-toggleable\"><input class=\"sk-toggleable__control sk-hidden--visually\" id=\"sk-estimator-id-5\" type=\"checkbox\" checked><label for=\"sk-estimator-id-5\" class=\"sk-toggleable__label sk-toggleable__label-arrow\">DecisionTreeClassifier</label><div class=\"sk-toggleable__content\"><pre>DecisionTreeClassifier(random_state=42)</pre></div></div></div></div></div>"
            ]
          },
          "metadata": {},
          "execution_count": 12
        }
      ]
    },
    {
      "cell_type": "code",
      "source": [
        "# Membangun model Random Forest\n",
        "random_forest_model = RandomForestClassifier\\\n",
        "(random_state=42)\n",
        "random_forest_model.fit(X_train, y_train)"
      ],
      "metadata": {
        "id": "_jIQi05ejTl3",
        "colab": {
          "base_uri": "https://localhost:8080/",
          "height": 75
        },
        "outputId": "cd627c4f-4586-4822-af0c-5b58e90a6423"
      },
      "execution_count": 13,
      "outputs": [
        {
          "output_type": "execute_result",
          "data": {
            "text/plain": [
              "RandomForestClassifier(random_state=42)"
            ],
            "text/html": [
              "<style>#sk-container-id-6 {color: black;background-color: white;}#sk-container-id-6 pre{padding: 0;}#sk-container-id-6 div.sk-toggleable {background-color: white;}#sk-container-id-6 label.sk-toggleable__label {cursor: pointer;display: block;width: 100%;margin-bottom: 0;padding: 0.3em;box-sizing: border-box;text-align: center;}#sk-container-id-6 label.sk-toggleable__label-arrow:before {content: \"▸\";float: left;margin-right: 0.25em;color: #696969;}#sk-container-id-6 label.sk-toggleable__label-arrow:hover:before {color: black;}#sk-container-id-6 div.sk-estimator:hover label.sk-toggleable__label-arrow:before {color: black;}#sk-container-id-6 div.sk-toggleable__content {max-height: 0;max-width: 0;overflow: hidden;text-align: left;background-color: #f0f8ff;}#sk-container-id-6 div.sk-toggleable__content pre {margin: 0.2em;color: black;border-radius: 0.25em;background-color: #f0f8ff;}#sk-container-id-6 input.sk-toggleable__control:checked~div.sk-toggleable__content {max-height: 200px;max-width: 100%;overflow: auto;}#sk-container-id-6 input.sk-toggleable__control:checked~label.sk-toggleable__label-arrow:before {content: \"▾\";}#sk-container-id-6 div.sk-estimator input.sk-toggleable__control:checked~label.sk-toggleable__label {background-color: #d4ebff;}#sk-container-id-6 div.sk-label input.sk-toggleable__control:checked~label.sk-toggleable__label {background-color: #d4ebff;}#sk-container-id-6 input.sk-hidden--visually {border: 0;clip: rect(1px 1px 1px 1px);clip: rect(1px, 1px, 1px, 1px);height: 1px;margin: -1px;overflow: hidden;padding: 0;position: absolute;width: 1px;}#sk-container-id-6 div.sk-estimator {font-family: monospace;background-color: #f0f8ff;border: 1px dotted black;border-radius: 0.25em;box-sizing: border-box;margin-bottom: 0.5em;}#sk-container-id-6 div.sk-estimator:hover {background-color: #d4ebff;}#sk-container-id-6 div.sk-parallel-item::after {content: \"\";width: 100%;border-bottom: 1px solid gray;flex-grow: 1;}#sk-container-id-6 div.sk-label:hover label.sk-toggleable__label {background-color: #d4ebff;}#sk-container-id-6 div.sk-serial::before {content: \"\";position: absolute;border-left: 1px solid gray;box-sizing: border-box;top: 0;bottom: 0;left: 50%;z-index: 0;}#sk-container-id-6 div.sk-serial {display: flex;flex-direction: column;align-items: center;background-color: white;padding-right: 0.2em;padding-left: 0.2em;position: relative;}#sk-container-id-6 div.sk-item {position: relative;z-index: 1;}#sk-container-id-6 div.sk-parallel {display: flex;align-items: stretch;justify-content: center;background-color: white;position: relative;}#sk-container-id-6 div.sk-item::before, #sk-container-id-6 div.sk-parallel-item::before {content: \"\";position: absolute;border-left: 1px solid gray;box-sizing: border-box;top: 0;bottom: 0;left: 50%;z-index: -1;}#sk-container-id-6 div.sk-parallel-item {display: flex;flex-direction: column;z-index: 1;position: relative;background-color: white;}#sk-container-id-6 div.sk-parallel-item:first-child::after {align-self: flex-end;width: 50%;}#sk-container-id-6 div.sk-parallel-item:last-child::after {align-self: flex-start;width: 50%;}#sk-container-id-6 div.sk-parallel-item:only-child::after {width: 0;}#sk-container-id-6 div.sk-dashed-wrapped {border: 1px dashed gray;margin: 0 0.4em 0.5em 0.4em;box-sizing: border-box;padding-bottom: 0.4em;background-color: white;}#sk-container-id-6 div.sk-label label {font-family: monospace;font-weight: bold;display: inline-block;line-height: 1.2em;}#sk-container-id-6 div.sk-label-container {text-align: center;}#sk-container-id-6 div.sk-container {/* jupyter's `normalize.less` sets `[hidden] { display: none; }` but bootstrap.min.css set `[hidden] { display: none !important; }` so we also need the `!important` here to be able to override the default hidden behavior on the sphinx rendered scikit-learn.org. See: https://github.com/scikit-learn/scikit-learn/issues/21755 */display: inline-block !important;position: relative;}#sk-container-id-6 div.sk-text-repr-fallback {display: none;}</style><div id=\"sk-container-id-6\" class=\"sk-top-container\"><div class=\"sk-text-repr-fallback\"><pre>RandomForestClassifier(random_state=42)</pre><b>In a Jupyter environment, please rerun this cell to show the HTML representation or trust the notebook. <br />On GitHub, the HTML representation is unable to render, please try loading this page with nbviewer.org.</b></div><div class=\"sk-container\" hidden><div class=\"sk-item\"><div class=\"sk-estimator sk-toggleable\"><input class=\"sk-toggleable__control sk-hidden--visually\" id=\"sk-estimator-id-6\" type=\"checkbox\" checked><label for=\"sk-estimator-id-6\" class=\"sk-toggleable__label sk-toggleable__label-arrow\">RandomForestClassifier</label><div class=\"sk-toggleable__content\"><pre>RandomForestClassifier(random_state=42)</pre></div></div></div></div></div>"
            ]
          },
          "metadata": {},
          "execution_count": 13
        }
      ]
    },
    {
      "cell_type": "markdown",
      "source": [
        "<small> 5.Lakukanlah pembentukan Grid Search untuk mencari parameter terbaik dengan cross-validation (minimal 2 parameter). </small>"
      ],
      "metadata": {
        "id": "lAhtnxgDUJpV"
      }
    },
    {
      "cell_type": "code",
      "source": [
        "# Parameter grid untuk SVM\n",
        "svm_param_grid = {\n",
        "    'C': [0.1, 1, 10],\n",
        "    'kernel': ['linear', 'rbf']\n",
        "}\n",
        "\n",
        "svm_grid_search = GridSearchCV\\\n",
        "(svm_model, svm_param_grid, \\\n",
        "cv=5, n_jobs=-1, verbose=1)\n",
        "\n",
        "svm_grid_search.fit(X_train, y_train)\n",
        "print(\"Best parameters for SVM:\", svm_grid_search.best_params_)"
      ],
      "metadata": {
        "id": "TnkZc-t8drys",
        "colab": {
          "base_uri": "https://localhost:8080/"
        },
        "outputId": "e5b0709c-68b3-45f0-8e4f-8682669c4de9"
      },
      "execution_count": null,
      "outputs": [
        {
          "output_type": "stream",
          "name": "stdout",
          "text": [
            "Fitting 5 folds for each of 6 candidates, totalling 30 fits\n"
          ]
        }
      ]
    },
    {
      "cell_type": "code",
      "source": [
        "# Parameter grid untuk Decision Tree\n",
        "decision_tree_param_grid = {\n",
        "    'max_depth': [None, 10, 20, 30],\n",
        "    'min_samples_split': [2, 10, 20]\n",
        "}\n",
        "\n",
        "decision_tree_grid_search = GridSearchCV\\\n",
        "(decision_tree_model, decision_tree_param_grid,\\\n",
        "cv=5, n_jobs=-1, verbose=1)\n",
        "\n",
        "decision_tree_grid_search.fit(X_train, y_train)\n",
        "\n",
        "print(\"Best parameters for Decision Tree:\",\\\n",
        "decision_tree_grid_search.best_params_)"
      ],
      "metadata": {
        "id": "ZiwDYRsorSBB",
        "colab": {
          "base_uri": "https://localhost:8080/"
        },
        "outputId": "f845142e-2892-433c-c7c8-57b9c28c6cf7"
      },
      "execution_count": 16,
      "outputs": [
        {
          "output_type": "stream",
          "name": "stdout",
          "text": [
            "Fitting 5 folds for each of 12 candidates, totalling 60 fits\n",
            "Best parameters for Decision Tree: {'max_depth': 10, 'min_samples_split': 20}\n"
          ]
        }
      ]
    },
    {
      "cell_type": "code",
      "source": [
        "# Parameter grid untuk Random Forest\n",
        "random_forest_param_grid = {\n",
        "    'n_estimators': [100, 200, 300],\n",
        "    'max_depth': [None, 10, 20],\n",
        "}\n",
        "\n",
        "random_forest_grid_search = GridSearchCV(random_forest_model\\\n",
        ", random_forest_param_grid, cv=5, n_jobs=-1, verbose=1)\n",
        "\n",
        "random_forest_grid_search.fit(X_train, y_train)\n",
        "print(\"Best parameters for Random Forest:\",\\\n",
        "random_forest_grid_search.best_params_)"
      ],
      "metadata": {
        "id": "H8NQ_yWezeo5",
        "colab": {
          "base_uri": "https://localhost:8080/"
        },
        "outputId": "7c9af531-6de2-4f2f-9369-5d4b61c2f258"
      },
      "execution_count": 17,
      "outputs": [
        {
          "output_type": "stream",
          "name": "stdout",
          "text": [
            "Fitting 5 folds for each of 9 candidates, totalling 45 fits\n",
            "Best parameters for Random Forest: {'max_depth': None, 'n_estimators': 300}\n"
          ]
        }
      ]
    },
    {
      "cell_type": "markdown",
      "source": [
        "<small>6.Lakukan pembentukan model menggunakan SVM, Decision Tree dan Random Forest dengan\n",
        "best parameter yang diambil dari hasil grid search dan tampilkan hasil akurasi yang didapat.</small>"
      ],
      "metadata": {
        "id": "er0PRbcFdr_x"
      }
    },
    {
      "cell_type": "code",
      "source": [
        "from sklearn.metrics import accuracy_score, \\\n",
        "f1_score, confusion_matrix, \\\n",
        "precision_score, recall_score"
      ],
      "metadata": {
        "id": "a65RrKhko6BX"
      },
      "execution_count": 33,
      "outputs": []
    },
    {
      "cell_type": "code",
      "source": [
        "# Membentuk model SVM dengan best parameters\n",
        "best_svm_params = svm_grid_search.best_params_\n",
        "best_svm_model = SVC(**best_svm_params, \\\n",
        "random_state=42)\n",
        "\n",
        "best_svm_model.fit(X_train, y_train)\n",
        "best_svm_predictions = best_svm_model.predict(X_test)\n",
        "best_svm_accuracy = accuracy_score(y_test, best_svm_predictions)\n",
        "print(\"SVM Best Accuracy:\", best_svm_accuracy)"
      ],
      "metadata": {
        "id": "_V02rOsud0SF",
        "colab": {
          "base_uri": "https://localhost:8080/",
          "height": 211
        },
        "outputId": "9e9e4a37-7fb1-4787-a0c7-a4752cb18182"
      },
      "execution_count": 28,
      "outputs": [
        {
          "output_type": "error",
          "ename": "AttributeError",
          "evalue": "'GridSearchCV' object has no attribute 'best_params_'",
          "traceback": [
            "\u001b[0;31m---------------------------------------------------------------------------\u001b[0m",
            "\u001b[0;31mAttributeError\u001b[0m                            Traceback (most recent call last)",
            "\u001b[0;32m<ipython-input-28-1c09e8472056>\u001b[0m in \u001b[0;36m<cell line: 2>\u001b[0;34m()\u001b[0m\n\u001b[1;32m      1\u001b[0m \u001b[0;31m# Membentuk model SVM dengan best parameters\u001b[0m\u001b[0;34m\u001b[0m\u001b[0;34m\u001b[0m\u001b[0m\n\u001b[0;32m----> 2\u001b[0;31m \u001b[0mbest_svm_params\u001b[0m \u001b[0;34m=\u001b[0m \u001b[0msvm_grid_search\u001b[0m\u001b[0;34m.\u001b[0m\u001b[0mbest_params_\u001b[0m\u001b[0;34m\u001b[0m\u001b[0;34m\u001b[0m\u001b[0m\n\u001b[0m\u001b[1;32m      3\u001b[0m best_svm_model = SVC(**best_svm_params, \\\n\u001b[1;32m      4\u001b[0m random_state=42)\n\u001b[1;32m      5\u001b[0m \u001b[0;34m\u001b[0m\u001b[0m\n",
            "\u001b[0;31mAttributeError\u001b[0m: 'GridSearchCV' object has no attribute 'best_params_'"
          ]
        }
      ]
    },
    {
      "cell_type": "code",
      "source": [
        "# Membentuk model Decision Tree dengan best parameters\n",
        "best_decision_tree_params = decision_tree_grid_search.best_params_\n",
        "best_decision_tree_model = \\\n",
        "DecisionTreeClassifier(**best_decision_tree_params, random_state=42)\n",
        "\n",
        "best_decision_tree_model.fit(X_train, y_train)\n",
        "best_decision_tree_predictions = \\\n",
        "best_decision_tree_model.predict(X_test)\n",
        "\n",
        "best_decision_tree_accuracy = \\\n",
        "accuracy_score(y_test, best_decision_tree_predictions)\n",
        "\n",
        "print(\"Decision Tree Best Accuracy:\", best_decision_tree_accuracy)"
      ],
      "metadata": {
        "colab": {
          "base_uri": "https://localhost:8080/"
        },
        "id": "B4MElJKko_zA",
        "outputId": "ae6cdb94-6bd3-44cc-ef52-9b650f9747f2"
      },
      "execution_count": 26,
      "outputs": [
        {
          "output_type": "stream",
          "name": "stdout",
          "text": [
            "Decision Tree Best Accuracy: 0.839\n"
          ]
        }
      ]
    },
    {
      "cell_type": "code",
      "source": [
        "# Membentuk model Random Forest dengan best parameters\n",
        "best_random_forest_params = random_forest_grid_search.best_params_\n",
        "best_random_forest_model = \\\n",
        "RandomForestClassifier(**best_random_forest_params, random_state=42)\n",
        "\n",
        "best_random_forest_model.fit(X_train, y_train)\n",
        "best_random_forest_predictions = \\\n",
        "best_random_forest_model.predict(X_test)\n",
        "\n",
        "best_random_forest_accuracy = \\\n",
        "accuracy_score(y_test, best_random_forest_predictions)\n",
        "print(\"Random Forest Best Accuracy:\", best_random_forest_accuracy)"
      ],
      "metadata": {
        "colab": {
          "base_uri": "https://localhost:8080/"
        },
        "id": "LY3e0AfJpDAV",
        "outputId": "578c7749-1ba3-42f5-8d4d-f517ed1ef244"
      },
      "execution_count": 27,
      "outputs": [
        {
          "output_type": "stream",
          "name": "stdout",
          "text": [
            "Random Forest Best Accuracy: 0.8666666666666667\n"
          ]
        }
      ]
    },
    {
      "cell_type": "markdown",
      "source": [
        "<small>7.Tampilkan accuracy, confusion matrix(F1 Score), precision serta recall dari kedua model anda.</small>"
      ],
      "metadata": {
        "id": "a3af8Pc8d0t1"
      }
    },
    {
      "cell_type": "code",
      "source": [
        "# Accuracy, confusion matrix, precision, recall SVM\n",
        "svm_pred = svm_model.predict(X_test)\n",
        "print(f\"SVM Accuracy: \\\n",
        "{accuracy_score(y_test, svm_pred)}\")\n",
        "\n",
        "print(f\"SVM Confusion Matrix\\\n",
        ":{confusion_matrix(y_test, svm_pred)}\")\n",
        "\n",
        "print(f\"SVM Precision: \\\n",
        "{precision_score(y_test, svm_pred)}\")\n",
        "\n",
        "print(f\"SVM Recall:\\\n",
        "{recall_score(y_test, svm_pred)}\")\n",
        "\n",
        "# Untuk model dengan parameter terbaik SVM\n",
        "print(f'SVM Best Accuracy:\\\n",
        "{best_svm_accuracy}')\n",
        "\n",
        "print(f'Best Confusion Matrix:\\\n",
        "{confusion_matrix(y_test, best_svm_predictions)}')\n",
        "\n",
        "print(f'Best SVM F1 Score: \\\n",
        "{f1_score(y_test,best_svm_predictions)}')\n",
        "\n",
        "print(f'Best SVM Precision: \\\n",
        "{precision_score(y_test,best_svm_predictions)}')\n",
        "\n",
        "print(f'Best SVM Recall: \\\n",
        "{y_test,best_svm_predictions}')"
      ],
      "metadata": {
        "id": "z7rQIpL0d4k-",
        "colab": {
          "base_uri": "https://localhost:8080/",
          "height": 352
        },
        "outputId": "04280a03-206b-474c-d91e-60ad50d77fcd"
      },
      "execution_count": 37,
      "outputs": [
        {
          "output_type": "stream",
          "name": "stdout",
          "text": [
            "SVM Accuracy: 0.8053333333333333\n",
            "SVM Confusion Matrix:[[2416    0]\n",
            " [ 584    0]]\n",
            "SVM Precision: 0.0\n",
            "SVM Recall: 0.0\n"
          ]
        },
        {
          "output_type": "stream",
          "name": "stderr",
          "text": [
            "/usr/local/lib/python3.10/dist-packages/sklearn/metrics/_classification.py:1344: UndefinedMetricWarning: Precision is ill-defined and being set to 0.0 due to no predicted samples. Use `zero_division` parameter to control this behavior.\n",
            "  _warn_prf(average, modifier, msg_start, len(result))\n"
          ]
        },
        {
          "output_type": "error",
          "ename": "NameError",
          "evalue": "name 'best_svm_accuracy' is not defined",
          "traceback": [
            "\u001b[0;31m---------------------------------------------------------------------------\u001b[0m",
            "\u001b[0;31mNameError\u001b[0m                                 Traceback (most recent call last)",
            "\u001b[0;32m<ipython-input-37-ad164bed74c1>\u001b[0m in \u001b[0;36m<cell line: 12>\u001b[0;34m()\u001b[0m\n\u001b[1;32m     10\u001b[0m \u001b[0;34m\u001b[0m\u001b[0m\n\u001b[1;32m     11\u001b[0m \u001b[0;31m# Untuk model dengan parameter terbaik SVM\u001b[0m\u001b[0;34m\u001b[0m\u001b[0;34m\u001b[0m\u001b[0m\n\u001b[0;32m---> 12\u001b[0;31m \u001b[0mprint\u001b[0m\u001b[0;34m(\u001b[0m\u001b[0;34mf'SVM Best Accuracy: {best_svm_accuracy}'\u001b[0m\u001b[0;34m)\u001b[0m\u001b[0;34m\u001b[0m\u001b[0;34m\u001b[0m\u001b[0m\n\u001b[0m\u001b[1;32m     13\u001b[0m \u001b[0mprint\u001b[0m\u001b[0;34m(\u001b[0m\u001b[0;34mf'Best Confusion Matrix:{confusion_matrix(y_test, best_svm_predictions)}'\u001b[0m\u001b[0;34m)\u001b[0m\u001b[0;34m\u001b[0m\u001b[0;34m\u001b[0m\u001b[0m\n\u001b[1;32m     14\u001b[0m \u001b[0;34m\u001b[0m\u001b[0m\n",
            "\u001b[0;31mNameError\u001b[0m: name 'best_svm_accuracy' is not defined"
          ]
        }
      ]
    },
    {
      "cell_type": "code",
      "source": [
        "# Accuracy, confusion matrix, precision, recall Decision Tree\n",
        "decision_tree_pred = decision_tree_model.predict(X_test)\n",
        "print(f\"Decision Tree Accuracy: \\\n",
        "{accuracy_score(y_test, decision_tree_pred)}\")\n",
        "\n",
        "print(f\"Decision Tree Confusion Matrix:\\\n",
        "{confusion_matrix(y_test, decision_tree_pred)}\")\n",
        "\n",
        "print(f\"Decision Tree Precision: \\\n",
        "{precision_score(y_test, decision_tree_pred)}\")\n",
        "\n",
        "print(f\"Decision Tree Recall: \\\n",
        "{recall_score(y_test, decision_tree_pred)}\\n\")\n",
        "\n",
        "\n",
        "# Untuk model dengan parameter terbaik Decision Tree\n",
        "print(f\"Decision Tree Best Accuracy: \\\n",
        "{best_decision_tree_accuracy}\")\n",
        "\n",
        "print(f'Best Confusion Matrix: \\\n",
        "{confusion_matrix(y_test, best_decision_tree_predictions)}')\n",
        "\n",
        "print(f'Best Decision Tree F1 Score: \\\n",
        "{f1_score(y_test, best_decision_tree_predictions)}')\n",
        "\n",
        "print(f'Best Decision Tree Precision: \\\n",
        "{precision_score(y_test, best_decision_tree_predictions)}')\n",
        "\n",
        "print(f'Best Decision Tree Recall: \\\n",
        "{recall_score(y_test, best_decision_tree_predictions)}')"
      ],
      "metadata": {
        "colab": {
          "base_uri": "https://localhost:8080/"
        },
        "id": "xwXRTBMwYlrW",
        "outputId": "8551205e-cc38-4ef2-b0a1-f03fddb968ac"
      },
      "execution_count": 40,
      "outputs": [
        {
          "output_type": "stream",
          "name": "stdout",
          "text": [
            "Decision Tree Accuracy: 0.808\n",
            "Decision Tree Confusion Matrix:[[2113  303]\n",
            " [ 273  311]]\n",
            "Decision Tree Precision: 0.506514657980456\n",
            "Decision Tree Recall: 0.5325342465753424\n",
            "\n",
            "Decision Tree Best Accuracy: 0.839\n",
            "Best Confusion Matrix: [[2247  169]\n",
            " [ 314  270]]\n",
            "Best Decision Tree F1 Score: 0.527859237536657\n",
            "Best Decision Tree Precision: 0.6150341685649203\n",
            "Best Decision Tree Recall: 0.4623287671232877\n"
          ]
        }
      ]
    },
    {
      "cell_type": "code",
      "source": [
        "# Accuracy, confusion matrix, precision, recall Random Forest\n",
        "random_forest_pred = random_forest_model.predict(X_test)\n",
        "print(f\"Random Forest Accuracy: \\\n",
        "{accuracy_score(y_test, random_forest_pred)}\")\n",
        "\n",
        "print(f\"Random Forest Confusion Matrix:\\\n",
        "{confusion_matrix(y_test, random_forest_pred)}\")\n",
        "\n",
        "print(f\"Random Forest Precision:\\\n",
        "{precision_score(y_test, random_forest_pred)}\")\n",
        "\n",
        "print(f\"Random Forest Recall:\\\n",
        "{recall_score(y_test, random_forest_pred)}\\n\")\n",
        "\n",
        "# Untuk model dengan parameter terbaik Random Forest\n",
        "print(f\"Random Forest  Best Accuracy: \\\n",
        "{best_random_forest_accuracy}\")\n",
        "\n",
        "print(f'Best Confusion Matrix: \\\n",
        "{confusion_matrix(y_test, best_random_forest_predictions)}')\n",
        "\n",
        "print(f'Best Random Forest F1 Score: \\\n",
        "{f1_score(y_test, best_random_forest_predictions)}')\n",
        "\n",
        "print(f'Best Random Forest Precision: \\\n",
        "{precision_score(y_test, best_random_forest_predictions)}')\n",
        "\n",
        "print(f'Best Random Forest Recall: \\\n",
        "{recall_score(y_test, best_random_forest_predictions)}')"
      ],
      "metadata": {
        "colab": {
          "base_uri": "https://localhost:8080/"
        },
        "id": "mZ4r_RVhYn2O",
        "outputId": "152dda12-af54-4d12-e617-db6fb1eed8c0"
      },
      "execution_count": 41,
      "outputs": [
        {
          "output_type": "stream",
          "name": "stdout",
          "text": [
            "Random Forest Accuracy: 0.867\n",
            "Random Forest Confusion Matrix:[[2328   88]\n",
            " [ 311  273]]\n",
            "Random Forest Precision:0.7562326869806094\n",
            "Random Forest Recall:0.4674657534246575\n",
            "\n",
            "Random Forest  Best Accuracy: 0.8666666666666667\n",
            "Best Confusion Matrix: [[2330   86]\n",
            " [ 314  270]]\n",
            "Best Random Forest F1 Score: 0.5744680851063829\n",
            "Best Random Forest Precision: 0.7584269662921348\n",
            "Best Random Forest Recall: 0.4623287671232877\n"
          ]
        }
      ]
    },
    {
      "cell_type": "markdown",
      "source": [
        "<small>8.Berikan analisis apakah hasilnya menjadi lebih baik</small>"
      ],
      "metadata": {
        "id": "BgNZu892d43i"
      }
    },
    {
      "cell_type": "markdown",
      "source": [
        "Untuk SVM :\n",
        "(belum selesai running karena lama sekali)\n",
        "\n",
        "Untuk Decision Tree:\n",
        "\n",
        "Setelah penyetelan hyperparameter, akurasi, presisi, dan recall meningkat. Akurasi meningkat dari 0.808 menjadi 0.839, presisi meningkat dari 0.506 menjadi 0.615, namun recall mengalami penurunan dari 0.533 menjadi 0.462.\n",
        "\n",
        "Untuk Random Forest:\n",
        "Setelah penyetelan hyperparameter, akurasi dan presisi Random Forest tetap relatif stabil, namun recall mengalami sedikit penurunan dari 0.467 menjadi 0.462.\n",
        "\n",
        "Secara keseluruhan, meskipun terjadi perbaikan pada beberapa metrik kinerja model Decision Tree setelah penyetelan hyperparameter, peningkatan ini tidak signifikan karena recall mengalami penurunan. Sementara itu, performa model Random Forest cenderung stabil setelah penyetelan hyperparameter, dengan sedikit perubahan pada recall. Hal ini menunjukkan bahwa penyetelan hyperparameter tidak selalu menghasilkan peningkatan kinerja yang signifikan pada setiap model."
      ],
      "metadata": {
        "id": "x4Msfow9aOXR"
      }
    }
  ]
}