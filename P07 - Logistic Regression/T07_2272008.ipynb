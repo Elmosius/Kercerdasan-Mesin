{
  "cells": [
    {
      "cell_type": "markdown",
      "source": [
        "># **Pertemuan 7 - Dataset bodyPerformance**"
      ],
      "metadata": {
        "id": "RPHqZ9BlZ2am"
      }
    },
    {
      "cell_type": "code",
      "source": [
        "import pandas as pd\n",
        "from sklearn.preprocessing import OrdinalEncoder\n",
        "from sklearn.model_selection import train_test_split\n",
        "from sklearn.linear_model import LogisticRegression\n",
        "from sklearn.model_selection import GridSearchCV\n",
        "from sklearn.metrics import accuracy_score, \\\n",
        "confusion_matrix, f1_score, precision_score, recall_score\n"
      ],
      "metadata": {
        "id": "rcEDN0rEcweb"
      },
      "execution_count": 61,
      "outputs": []
    },
    {
      "cell_type": "markdown",
      "source": [
        "<small> 1. Gunakanlah dataset \"bodyPerformacne.csv\" </small>"
      ],
      "metadata": {
        "id": "iEeQ0ucfcJRd"
      }
    },
    {
      "cell_type": "code",
      "source": [
        "df = pd.read_csv('bodyPerformance.csv')\n"
      ],
      "metadata": {
        "id": "cAykPZpEcbKD"
      },
      "execution_count": 62,
      "outputs": []
    },
    {
      "cell_type": "markdown",
      "source": [
        "<small> 2. Lakukanlah pengecekan apakah data tersebut memiliki data yang kosong atau tidak. Bila\n",
        "terdapat data kosong silahkan hapus baris tersebut."
      ],
      "metadata": {
        "id": "vIY8nB74eHdz"
      }
    },
    {
      "cell_type": "code",
      "source": [
        "print(df.isnull().sum())\n",
        "df = df.dropna()\n",
        "print(df.isnull().sum())"
      ],
      "metadata": {
        "colab": {
          "base_uri": "https://localhost:8080/"
        },
        "id": "S8vOmUtvePcD",
        "outputId": "09b34a81-f967-4cf7-d561-efeefcc62a62"
      },
      "execution_count": 67,
      "outputs": [
        {
          "output_type": "stream",
          "name": "stdout",
          "text": [
            "age                        0\n",
            "gender                     0\n",
            "height_cm                  0\n",
            "weight_kg                  0\n",
            "body fat_%                 0\n",
            "diastolic                  0\n",
            "systolic                   0\n",
            "gripForce                  0\n",
            "sit and bend forward_cm    0\n",
            "sit-ups counts             0\n",
            "broad jump_cm              0\n",
            "class                      0\n",
            "dtype: int64\n",
            "age                        0\n",
            "gender                     0\n",
            "height_cm                  0\n",
            "weight_kg                  0\n",
            "body fat_%                 0\n",
            "diastolic                  0\n",
            "systolic                   0\n",
            "gripForce                  0\n",
            "sit and bend forward_cm    0\n",
            "sit-ups counts             0\n",
            "broad jump_cm              0\n",
            "class                      0\n",
            "dtype: int64\n"
          ]
        }
      ]
    },
    {
      "cell_type": "markdown",
      "source": [
        "<small> 3. Lakukanlah data preparation. Perhatikan kolom-kolom yang bertipe data kategorikal, anda\n",
        "dapat menggunakan one-hot encoding/ordinal encoding/label encoder"
      ],
      "metadata": {
        "id": "QUxBmxyHeeBJ"
      }
    },
    {
      "cell_type": "code",
      "source": [
        "encoder = OrdinalEncoder()\n",
        "df['gender'] = encoder.fit_transform(df[['gender']])\n",
        "df['class'] = encoder.fit_transform(df[['class']])"
      ],
      "metadata": {
        "id": "e8gLnb4QekrT"
      },
      "execution_count": 64,
      "outputs": []
    },
    {
      "cell_type": "markdown",
      "source": [
        "<small>4. Pisahkan dataset yang ada menjadi data train dan data test dengan rasio 70% dan 30%"
      ],
      "metadata": {
        "id": "LuybplSig06X"
      }
    },
    {
      "cell_type": "code",
      "source": [
        "X = df.drop(['gender', 'class'], axis=1)\n",
        "y = df[['gender', 'class']]\n",
        "\n",
        "X_train, X_test, y_train, y_test\\\n",
        " = train_test_split(X, y, test_size=0.3, random_state=42)"
      ],
      "metadata": {
        "id": "GCXguYtcglFF"
      },
      "execution_count": 65,
      "outputs": []
    },
    {
      "cell_type": "markdown",
      "source": [
        "<small> 5. Lakukan pembentukan base model dengan menggunakan Logistic Regression"
      ],
      "metadata": {
        "id": "OdPCITKcj8wQ"
      }
    },
    {
      "cell_type": "code",
      "source": [
        "model_gender = LogisticRegression(max_iter=500)\n",
        "model_gender.fit(X_train, y_train['gender'])\n",
        "\n",
        "model_class = LogisticRegression(max_iter=500)\n",
        "model_class.fit(X_train, y_train['class'])\n",
        "\n",
        "predictions_gender = model_gender.predict(X_test)\n",
        "accuracy_gender = accuracy_score(y_test['gender'], predictions_gender)\n",
        "print(\"Accuracy for 'gender': \", accuracy_gender)\n",
        "\n",
        "predictions_class = model_class.predict(X_test)\n",
        "accuracy_class = accuracy_score(y_test['class'], predictions_class)\n",
        "print(\"Accuracy for 'class': \", accuracy_class)\n"
      ],
      "metadata": {
        "colab": {
          "base_uri": "https://localhost:8080/"
        },
        "id": "zZivlrWZkARP",
        "outputId": "a83a81b3-a6bb-420a-b53c-8332cdc723b8"
      },
      "execution_count": 66,
      "outputs": [
        {
          "output_type": "stream",
          "name": "stdout",
          "text": [
            "Accuracy for 'gender':  0.9833250373320059\n",
            "Accuracy for 'class':  0.606769537083126\n"
          ]
        }
      ]
    },
    {
      "cell_type": "markdown",
      "source": [
        "<small> Lakukanlah pembentukan Grid Search untuk mencari parameter terbaik dengan cross\u0002validation. Pilihan parameternya yaitu <br>\n",
        "a. Penalty : {‘l1’, ‘l2’, ‘elasticnet’, None}<br>\n",
        "b. Solver : {‘lbfgs’, ‘liblinear’, ‘newton-cg’, ‘newton-cholesky’, ‘sag’, ‘saga’}"
      ],
      "metadata": {
        "id": "--sfWI55lYRB"
      }
    },
    {
      "cell_type": "code",
      "source": [
        "param_grid = {\n",
        "    'penalty': ['l2',],\n",
        "    'solver':  ['lbfgs', 'liblinear', 'newton-cg', \\\n",
        "               'newton-cholesky', 'sag', 'saga'],\n",
        "}\n",
        "\n",
        "# Buat dan latih model untuk 'gender'\n",
        "model_gender = LogisticRegression(max_iter=10000)\n",
        "grid_search_gender = GridSearchCV(model_gender, param_grid, cv=5)\n",
        "grid_search_gender.fit(X_train, y_train['gender'])\n",
        "print(\"Best parameters for 'gender': \", grid_search_gender.best_params_)\n",
        "\n",
        "# Buat dan latih model untuk 'class'\n",
        "model_class = LogisticRegression(max_iter=10000)\n",
        "grid_search_class = GridSearchCV(model_class, param_grid, cv=5)\n",
        "grid_search_class.fit(X_train, y_train['class'])\n",
        "print(\"Best parameters for 'class': \", grid_search_class.best_params_)"
      ],
      "metadata": {
        "colab": {
          "base_uri": "https://localhost:8080/"
        },
        "id": "EAKLhjQSlhq4",
        "outputId": "3b257ecb-3776-49f5-ef18-0300dac7a98f"
      },
      "execution_count": 57,
      "outputs": [
        {
          "output_type": "stream",
          "name": "stdout",
          "text": [
            "Best parameters for 'gender':  {'penalty': 'l2', 'solver': 'lbfgs'}\n",
            "Best parameters for 'class':  {'penalty': 'l2', 'solver': 'newton-cg'}\n"
          ]
        }
      ]
    },
    {
      "cell_type": "markdown",
      "source": [
        "<small> 7. Lakukan pembentukan model menggunakan Logistic Regression dengan best parameter yang\n",
        "diambil dari hasil grid search dan tampilkan hasil akurasi yang didapat."
      ],
      "metadata": {
        "id": "XwiL6lm1odFg"
      }
    },
    {
      "cell_type": "code",
      "source": [
        "# Buat dan latih model untuk 'gender' dengan parameter terbaik\n",
        "best_params_gender = grid_search_gender.best_params_\n",
        "model_gender = LogisticRegression(max_iter=10000,\\\n",
        "penalty=best_params_gender['penalty'], solver=best_params_gender['solver'])\n",
        "model_gender.fit(X_train, y_train['gender'])\n",
        "\n",
        "# Prediksi dan hitung akurasi untuk 'gender'\n",
        "predictions_gender = model_gender.predict(X_test)\n",
        "accuracy_gender = accuracy_score(y_test['gender'], predictions_gender)\n",
        "print(\"Accuracy for 'gender': \", accuracy_gender)\n",
        "\n",
        "# Buat dan latih model untuk 'class' dengan parameter terbaik\n",
        "best_params_class = grid_search_class.best_params_\n",
        "model_class = LogisticRegression(max_iter=10000,\\\n",
        "penalty=best_params_class['penalty'], solver=best_params_class['solver'])\n",
        "model_class.fit(X_train, y_train['class'])\n",
        "\n",
        "# Prediksi dan hitung akurasi untuk 'class'\n",
        "predictions_class = model_class.predict(X_test)\n",
        "accuracy_class = accuracy_score(y_test['class'], predictions_class)\n",
        "print(\"Accuracy for 'class': \", accuracy_class)"
      ],
      "metadata": {
        "colab": {
          "base_uri": "https://localhost:8080/"
        },
        "id": "8Yzr0XC8ojdu",
        "outputId": "04f6858e-4b6d-4636-f7a3-f32dc0307a2d"
      },
      "execution_count": 58,
      "outputs": [
        {
          "output_type": "stream",
          "name": "stdout",
          "text": [
            "Accuracy for 'gender':  0.9833250373320059\n",
            "Accuracy for 'class':  0.6124937779990045\n"
          ]
        }
      ]
    },
    {
      "cell_type": "markdown",
      "source": [
        "<small> 8.Tampilkan accuracy, confusion matrix(F1 Score), precision serta recall dari kedua model ini"
      ],
      "metadata": {
        "id": "VYghC3l0pZHJ"
      }
    },
    {
      "cell_type": "code",
      "source": [
        "# Prediksi dan hitung metrik untuk 'gender'\n",
        "predictions_gender = model_gender.predict(X_test)\n",
        "accuracy_gender = accuracy_score(y_test['gender'], predictions_gender)\n",
        "confusion_gender = confusion_matrix(y_test['gender'], predictions_gender)\n",
        "f1_gender = f1_score(y_test['gender'], predictions_gender, average='micro')\n",
        "precision_gender = precision_score(y_test['gender'], predictions_gender, average='micro')\n",
        "recall_gender = recall_score(y_test['gender'], predictions_gender, average='micro')\n",
        "\n",
        "print(\"Metrics for 'gender':\")\n",
        "print(\"Accuracy: \", accuracy_gender)\n",
        "print(\"Confusion Matrix: \\n\", confusion_gender)\n",
        "print(\"F1 Score: \", f1_gender)\n",
        "print(\"Precision: \", precision_gender)\n",
        "print(\"Recall: \", recall_gender)\n",
        "\n",
        "# Untuk model dengan parameter terbaik\n",
        "# Prediksi dan hitung metrik untuk 'gender'\n",
        "best_predictions_gender = grid_search_gender.predict(X_test)\n",
        "best_accuracy_gender = accuracy_score(y_test['gender'], best_predictions_gender)\n",
        "best_confusion_gender = confusion_matrix(y_test['gender'], best_predictions_gender)\n",
        "best_f1_gender = f1_score(y_test['gender'], best_predictions_gender, average='micro')\n",
        "best_precision_gender = precision_score(y_test['gender'], best_predictions_gender, average='micro')\n",
        "best_recall_gender = recall_score(y_test['gender'], best_predictions_gender, average='micro')\n",
        "\n",
        "print(\"\\nMetrics for 'gender' with best parameters:\")\n",
        "print(\"Accuracy: \", best_accuracy_gender)\n",
        "print(\"Confusion Matrix: \\n\", best_confusion_gender)\n",
        "print(\"F1 Score: \", best_f1_gender)\n",
        "print(\"Precision: \", best_precision_gender)\n",
        "print(\"Recall: \", best_recall_gender)\n",
        "\n",
        "\n",
        "# Prediksi dan hitung metrik untuk 'class'\n",
        "predictions_class = model_class.predict(X_test)\n",
        "accuracy_class = accuracy_score(y_test['class'], predictions_class)\n",
        "confusion_class = confusion_matrix(y_test['class'], predictions_class)\n",
        "f1_class = f1_score(y_test['class'], predictions_class, average='micro')\n",
        "precision_class = precision_score(y_test['class'], predictions_class, average='micro')\n",
        "recall_class = recall_score(y_test['class'], predictions_class, average='micro')\n",
        "\n",
        "print(\"\\nMetrics for 'class':\")\n",
        "print(\"Accuracy: \", accuracy_class)\n",
        "print(\"Confusion Matrix: \\n\", confusion_class)\n",
        "print(\"F1 Score: \", f1_class)\n",
        "print(\"Precision: \", precision_class)\n",
        "print(\"Recall: \", recall_class)\n",
        "\n",
        "\n",
        "# Untuk model dengan parameter terbaik\n",
        "# Prediksi dan hitung metrik untuk 'class'\n",
        "best_predictions_class = grid_search_class.predict(X_test)\n",
        "best_accuracy_class = accuracy_score(y_test['class'], best_predictions_class)\n",
        "best_confusion_class = confusion_matrix(y_test['class'], best_predictions_class)\n",
        "best_f1_class = f1_score(y_test['class'], best_predictions_class, average='micro')\n",
        "best_precision_class = precision_score(y_test['class'], best_predictions_class, average='micro')\n",
        "best_recall_class = recall_score(y_test['class'], best_predictions_class, average='micro')\n",
        "\n",
        "print(\"\\nMetrics for 'class' with best parameters:\")\n",
        "print(\"Accuracy: \", best_accuracy_class)\n",
        "print(\"Confusion Matrix: \\n\", best_confusion_class)\n",
        "print(\"F1 Score: \", best_f1_class)\n",
        "print(\"Precision: \", best_precision_class)\n",
        "print(\"Recall: \", best_recall_class)\n"
      ],
      "metadata": {
        "colab": {
          "base_uri": "https://localhost:8080/"
        },
        "id": "nKCaRY84scZw",
        "outputId": "60ba574a-35a4-44a8-c9cd-86f69f6640d7"
      },
      "execution_count": 68,
      "outputs": [
        {
          "output_type": "stream",
          "name": "stdout",
          "text": [
            "Metrics for 'gender':\n",
            "Accuracy:  0.9833250373320059\n",
            "Confusion Matrix: \n",
            " [[1426   35]\n",
            " [  32 2525]]\n",
            "F1 Score:  0.9833250373320059\n",
            "Precision:  0.9833250373320059\n",
            "Recall:  0.9833250373320059\n",
            "\n",
            "Metrics for 'gender' with best parameters:\n",
            "Accuracy:  0.9833250373320059\n",
            "Confusion Matrix: \n",
            " [[1426   35]\n",
            " [  32 2525]]\n",
            "F1 Score:  0.9833250373320059\n",
            "Precision:  0.9833250373320059\n",
            "Recall:  0.9833250373320059\n",
            "\n",
            "Metrics for 'class':\n",
            "Accuracy:  0.606769537083126\n",
            "Confusion Matrix: \n",
            " [[717 292  31   0]\n",
            " [225 399 303  39]\n",
            " [ 93 183 529 164]\n",
            " [ 17  70 163 793]]\n",
            "F1 Score:  0.606769537083126\n",
            "Precision:  0.606769537083126\n",
            "Recall:  0.606769537083126\n",
            "\n",
            "Metrics for 'class' with best parameters:\n",
            "Accuracy:  0.6124937779990045\n",
            "Confusion Matrix: \n",
            " [[727 285  27   1]\n",
            " [213 412 303  38]\n",
            " [ 99 177 527 166]\n",
            " [ 17  68 163 795]]\n",
            "F1 Score:  0.6124937779990045\n",
            "Precision:  0.6124937779990045\n",
            "Recall:  0.6124937779990045\n"
          ]
        }
      ]
    },
    {
      "cell_type": "markdown",
      "source": [
        "<small> 9.Berikan analisis apakah hasilnya menjadi lebih baik, tetap atau malah terjadi penurunan\n",
        "performa terhadap model awalnya."
      ],
      "metadata": {
        "id": "VeUtjUaP72Ub"
      }
    },
    {
      "cell_type": "markdown",
      "source": [
        "Membandingkan hasil sebelumnya untuk 'class' dengan 'class' dengan parameter terbaik:\n",
        "\n",
        "Akurasi: Ada peningkatan kecil dalam akurasi (0.6067 vs. 0.6124).\n",
        "Confusion Matrix: Ada sedikit perubahan terlihat dalam distribusi prediksi yang benar dan salah di seluruh kelas.\n",
        "F1 Score, Precision, Recall: Performa tetap menunjukkan hasil yang hampir identik.\n",
        "\n",
        "Kesimpulan, secara keseluruhan, terlihat bahwa menyesuaikan parameter untuk 'class' menghasilkan peningkatan kecil dalam akurasi. Namun, peningkatan ini kemungkinan tidak terlalu signifikan. Model tampaknya memiliki performa yang stabil, dan perubahan pada parameter tidak menghasilkan perbedaan yang jauh."
      ],
      "metadata": {
        "id": "qlbzwQMO75qF"
      }
    }
  ],
  "metadata": {
    "colab": {
      "provenance": []
    },
    "kernelspec": {
      "display_name": "Python 3",
      "name": "python3"
    },
    "language_info": {
      "name": "python"
    }
  },
  "nbformat": 4,
  "nbformat_minor": 0
}