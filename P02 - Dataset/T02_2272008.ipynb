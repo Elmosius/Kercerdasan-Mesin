{
 "cells": [
  {
   "cell_type": "markdown",
   "id": "f8c56baa",
   "metadata": {},
   "source": [
    "# <a id=\"home\">Mengevaluasi Performa Algoritma _Machine Learning_ dengan Resampling</a>"
   ]
  },
  {
   "cell_type": "markdown",
   "id": "504a0a32",
   "metadata": {},
   "source": [
    "Evaluasi model adalah perkiraan yang dapat kita gunakan untuk berbicara tentang seberapa baik model/algoritma _machine learning_ sebenarnya dapat bekerja dalam praktek.     \n",
    "\n",
    "Setelah kita memperkirakan kinerja model/algoritma _machine learning_ yang kita buat, kemudian kita dapat melatih ulang model/algoritma akhir dengan menggunakan seluruh train set.    \n",
    "\n",
    "Selanjutnya kita akan melihat empat teknik yang berbeda yang dapat kita gunakan untuk memisahkan dataset kita dan membuat estimasi yang berguna bagi kinerja model/algoritma _machine learning_ kita:\n",
    "-  [Train dan Test Set](#train-and-test)\n",
    "-  [$k$-fold Cross-Validation](#k-fold)\n",
    "-  [Leave One Out Cross-Validation (LOOCV)](#loocv)."
   ]
  },
  {
   "cell_type": "markdown",
   "id": "0e4cdd4d",
   "metadata": {},
   "source": [
    "## <a id=\"train-and-test\">Train dan Test Set</a> (Back to [Home](#home))"
   ]
  },
  {
   "cell_type": "code",
   "execution_count": 1,
   "id": "4ad1169d",
   "metadata": {},
   "outputs": [],
   "source": [
    "from pandas import read_csv\n",
    "from sklearn.model_selection import train_test_split\n",
    "from sklearn.linear_model import LogisticRegression"
   ]
  },
  {
   "cell_type": "markdown",
   "id": "d7603c67",
   "metadata": {},
   "source": [
    "Buatlah variabel dengan nama `filename` dan isi variabel bertipe `string`, yaitu `pima-indians-diabetes.data.csv`."
   ]
  },
  {
   "cell_type": "code",
   "execution_count": 2,
   "id": "489162c2",
   "metadata": {},
   "outputs": [],
   "source": [
    "filename = 'pima-indians-diabetes.data.csv'"
   ]
  },
  {
   "cell_type": "markdown",
   "id": "b45602dc",
   "metadata": {},
   "source": [
    "Buatlah list bernama `names` dengan nilai string, yaitu: `preg`, `plas`, `pres`, `skin`, `test`, `mass`, `pedi`, `age`, dan `class`."
   ]
  },
  {
   "cell_type": "code",
   "execution_count": 3,
   "id": "148f9a8c",
   "metadata": {},
   "outputs": [],
   "source": [
    "names = ['preg','plas','pres','skin','test','mass','pedi','age','class']"
   ]
  },
  {
   "cell_type": "markdown",
   "id": "3865cd63",
   "metadata": {},
   "source": [
    "Gunakan method `read_csv` dengan parameter: `filename` dan `names` adalah `names`. Simpan hasil `read_csv` dalam variabel `dataframe`."
   ]
  },
  {
   "cell_type": "code",
   "execution_count": 4,
   "id": "c92822e3",
   "metadata": {},
   "outputs": [],
   "source": [
    "dataframe =  read_csv(filename, names=names)"
   ]
  },
  {
   "cell_type": "markdown",
   "id": "214c7cff",
   "metadata": {},
   "source": [
    "Simpan semua nilai `dataframe` ke dalam variabel `array`.      \n",
    "\n",
    "**Hint**: gunakan _attribute_ `values` dari `dataframe`."
   ]
  },
  {
   "cell_type": "code",
   "execution_count": 5,
   "id": "e7dec0e9",
   "metadata": {},
   "outputs": [],
   "source": [
    "array = dataframe.values"
   ]
  },
  {
   "cell_type": "markdown",
   "id": "54ea5c8b",
   "metadata": {},
   "source": [
    "Extract semua baris dan kolom ke-1 s.d. ke-7 ke dalam variabel `X`."
   ]
  },
  {
   "cell_type": "code",
   "execution_count": 6,
   "id": "aa51b827",
   "metadata": {},
   "outputs": [],
   "source": [
    "X = dataframe.iloc[:, :8].values"
   ]
  },
  {
   "cell_type": "markdown",
   "id": "fcd7e763",
   "metadata": {},
   "source": [
    "Simpan semua baris dari kolom ke-7 ke dalam variabel `y`."
   ]
  },
  {
   "cell_type": "code",
   "execution_count": 7,
   "id": "893b3aeb",
   "metadata": {},
   "outputs": [],
   "source": [
    "y = dataframe.iloc[:, 8].values"
   ]
  },
  {
   "cell_type": "markdown",
   "id": "34bd896c",
   "metadata": {},
   "source": [
    "Buatlah variabel yang bernama `test_size` dengan nilai `0.33`. "
   ]
  },
  {
   "cell_type": "code",
   "execution_count": 8,
   "id": "97379f1b",
   "metadata": {},
   "outputs": [],
   "source": [
    "test_size = 0.33"
   ]
  },
  {
   "cell_type": "markdown",
   "id": "72b82e60",
   "metadata": {},
   "source": [
    "Buatlah variabel yang bernama `seed` dengan nilai `7`."
   ]
  },
  {
   "cell_type": "code",
   "execution_count": 9,
   "id": "b188dea7",
   "metadata": {},
   "outputs": [],
   "source": [
    "seed = 7"
   ]
  },
  {
   "cell_type": "markdown",
   "id": "18d38487",
   "metadata": {},
   "source": [
    "Gunakan method train_test_split dengan parameter sbb:\n",
    "- `X`\n",
    "- `y`\n",
    "- `test_size` yang diisi dengan `test_size`, dan\n",
    "- `random_state` yang diisi dengan variabel `seed`."
   ]
  },
  {
   "cell_type": "code",
   "execution_count": 10,
   "id": "83b97bed",
   "metadata": {},
   "outputs": [],
   "source": [
    "X_train, X_test,y_train, \\\n",
    "y_test = train_test_split(X,y, \\\n",
    "test_size=test_size, random_state=seed)"
   ]
  },
  {
   "cell_type": "markdown",
   "id": "aa8dbbd3",
   "metadata": {},
   "source": [
    "Buatlah `model` yang merupakan model `LogisticRegression` dengan parameter `solver` adalah `liblinear`."
   ]
  },
  {
   "cell_type": "code",
   "execution_count": 11,
   "id": "91c2c359",
   "metadata": {},
   "outputs": [],
   "source": [
    "model = LogisticRegression(solver='liblinear')"
   ]
  },
  {
   "cell_type": "markdown",
   "id": "958c7941",
   "metadata": {},
   "source": [
    "Latihlah `model` dengan cara memanggil method `fit` dan diberi parameter `X_train` dan `y_train`. "
   ]
  },
  {
   "cell_type": "code",
   "execution_count": 25,
   "id": "c070ef5a",
   "metadata": {},
   "outputs": [
    {
     "name": "stdout",
     "output_type": "stream",
     "text": [
      "LogisticRegression(solver='liblinear')\n"
     ]
    }
   ],
   "source": [
    "print(model.fit(X_train, y_train))"
   ]
  },
  {
   "cell_type": "markdown",
   "id": "fe88e149",
   "metadata": {},
   "source": [
    "Gunakan method `score` dari `model` pada `X_test` dan `y_test` dan simpan hasilnya di variabel `result`."
   ]
  },
  {
   "cell_type": "code",
   "execution_count": 13,
   "id": "605db47f",
   "metadata": {},
   "outputs": [],
   "source": [
    "result = model.score(X_test, y_test)"
   ]
  },
  {
   "cell_type": "markdown",
   "id": "d310a25d",
   "metadata": {},
   "source": [
    "Cetaklah hasil prediksi pada `X_test` sbb:      \n",
    "`Accuracy: XX%`    \n",
    "   \n",
    "Harapannya, akurasi $\\approx 76\\%$.    "
   ]
  },
  {
   "cell_type": "code",
   "execution_count": 14,
   "id": "8a81fa36",
   "metadata": {},
   "outputs": [
    {
     "name": "stdout",
     "output_type": "stream",
     "text": [
      "Accuracy 75.59%\n"
     ]
    }
   ],
   "source": [
    "print(f'Accuracy {result * 100:.2f}%')"
   ]
  },
  {
   "cell_type": "markdown",
   "id": "091b5e06",
   "metadata": {},
   "source": [
    "\n",
    "## <a id=\"k-fold\">$k$-fold Cross-Validation</a> (Back to [Home](#home))"
   ]
  },
  {
   "cell_type": "code",
   "execution_count": 15,
   "id": "ea430447",
   "metadata": {},
   "outputs": [],
   "source": [
    "from sklearn.model_selection import KFold\n",
    "from sklearn.model_selection import cross_val_score"
   ]
  },
  {
   "cell_type": "markdown",
   "id": "acc51ed9",
   "metadata": {},
   "source": [
    "Buatlah `KFold` dengan parameter `n_splits=10` dan simpan dalam varibel `kfold`. "
   ]
  },
  {
   "cell_type": "code",
   "execution_count": 16,
   "id": "d698a6bc",
   "metadata": {},
   "outputs": [],
   "source": [
    "kfold = KFold(n_splits=10)"
   ]
  },
  {
   "cell_type": "markdown",
   "id": "d1c33be5",
   "metadata": {},
   "source": [
    "Buatlah `model` yang merupakan model `LogisticRegression` dengan parameter `solver` adalah `liblinear`."
   ]
  },
  {
   "cell_type": "code",
   "execution_count": 17,
   "id": "aaebca9f",
   "metadata": {},
   "outputs": [],
   "source": [
    "model = LogisticRegression(solver='liblinear')"
   ]
  },
  {
   "cell_type": "markdown",
   "id": "6a9de919",
   "metadata": {},
   "source": [
    "Gunakan method `cross_val_score` dengan parameter sbb:    \n",
    "- `model`, \n",
    "- `X`, \n",
    "- `y`, dan\n",
    "- parameter `cv` yang bernilai `kfold`.    \n",
    "\n",
    "Simpan hasil `cross_val_score` dalam variabel `results`."
   ]
  },
  {
   "cell_type": "code",
   "execution_count": 18,
   "id": "5a772b03",
   "metadata": {},
   "outputs": [],
   "source": [
    "results = cross_val_score(model,X,y,cv=kfold) "
   ]
  },
  {
   "cell_type": "markdown",
   "id": "80803fd4",
   "metadata": {},
   "source": [
    "Cetaklah hasil cross-validation sbb:     \n",
    "`Accuracy: <Nilai Rata-Rata>% (<Nilai Simpangan Baku>%)`    \n",
    "Harapannya nilai akurasi $\\approx 76\\%$\n",
    "    \n",
    "**Hint**: Gunakan method masing-masing `mean` dan `std` untuk rata-rata dan simpangan baku.     "
   ]
  },
  {
   "cell_type": "code",
   "execution_count": 19,
   "id": "633e13cf",
   "metadata": {},
   "outputs": [
    {
     "name": "stdout",
     "output_type": "stream",
     "text": [
      "Accuracy: 76.95% 4.84%\n"
     ]
    }
   ],
   "source": [
    "print(f'Accuracy: {results.mean()*100:.2f}% \\\n",
    "{results.std()*100:.2f}%')"
   ]
  },
  {
   "cell_type": "markdown",
   "id": "8574e637",
   "metadata": {},
   "source": [
    "## <a id=\"loocv\">Leave One Out Cross-Validation</a> (Back to [Home](#home))"
   ]
  },
  {
   "cell_type": "code",
   "execution_count": 20,
   "id": "b4b9ce45",
   "metadata": {},
   "outputs": [],
   "source": [
    "from sklearn.model_selection import LeaveOneOut"
   ]
  },
  {
   "cell_type": "markdown",
   "id": "0fde26da",
   "metadata": {},
   "source": [
    "Buatlah variabel `loocv` dari kelas `LeaveOneOut`."
   ]
  },
  {
   "cell_type": "code",
   "execution_count": 21,
   "id": "140bcb03",
   "metadata": {},
   "outputs": [],
   "source": [
    "loocv = LeaveOneOut()"
   ]
  },
  {
   "cell_type": "markdown",
   "id": "b51a5ac4",
   "metadata": {},
   "source": [
    "Buatlah `model` yang merupakan model `LogisticRegression` dengan parameter `solver` adalah `liblinear`."
   ]
  },
  {
   "cell_type": "code",
   "execution_count": 22,
   "id": "be179edc",
   "metadata": {},
   "outputs": [],
   "source": [
    "model = LogisticRegression(solver='liblinear')"
   ]
  },
  {
   "cell_type": "markdown",
   "id": "5b6b4de5",
   "metadata": {},
   "source": [
    "Gunakan method `cross_val_score` dengan parameter sbb:    \n",
    "- `model`, \n",
    "- `X`, \n",
    "- `y`, dan\n",
    "- parameter `cv` yang bernilai `loocv`.    \n",
    "\n",
    "Simpan hasil `cross_val_score` dalam variabel `results`."
   ]
  },
  {
   "cell_type": "code",
   "execution_count": 23,
   "id": "5b44b9d8",
   "metadata": {},
   "outputs": [],
   "source": [
    "results = cross_val_score(model,X,y,cv=loocv) "
   ]
  },
  {
   "cell_type": "markdown",
   "id": "ddd6ba8c",
   "metadata": {},
   "source": [
    "Cetaklah hasil cross-validation sbb:     \n",
    "`Accuracy: <Nilai Rata-Rata>% (<Nilai Simpangan Baku>%)`    \n",
    "Harapannya nilai akurasi $\\approx 76\\%$\n",
    "    \n",
    "**Hint**: Gunakan method masing-masing `mean` dan `std` untuk rata-rata dan simpangan baku.     "
   ]
  },
  {
   "cell_type": "code",
   "execution_count": 24,
   "id": "cc4a6935",
   "metadata": {},
   "outputs": [
    {
     "name": "stdout",
     "output_type": "stream",
     "text": [
      "Accuracy: 76.82% 42.20%\n"
     ]
    }
   ],
   "source": [
    "print(f'Accuracy: {results.mean()*100:.2f}% \\\n",
    "{results.std()*100:.2f}%')"
   ]
  },
  {
   "cell_type": "markdown",
   "id": "9c7b4300",
   "metadata": {},
   "source": [
    "<h2><center>The End</center></h2>"
   ]
  }
 ],
 "metadata": {
  "kernelspec": {
   "display_name": "Python 3 (ipykernel)",
   "language": "python",
   "name": "python3"
  },
  "language_info": {
   "codemirror_mode": {
    "name": "ipython",
    "version": 3
   },
   "file_extension": ".py",
   "mimetype": "text/x-python",
   "name": "python",
   "nbconvert_exporter": "python",
   "pygments_lexer": "ipython3",
   "version": "3.11.5"
  }
 },
 "nbformat": 4,
 "nbformat_minor": 5
}
